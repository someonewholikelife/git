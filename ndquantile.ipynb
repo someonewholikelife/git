{
  "nbformat": 4,
  "nbformat_minor": 0,
  "metadata": {
    "colab": {
      "provenance": [],
      "authorship_tag": "ABX9TyOHy87xaVI77vdZ/4hlHUPX",
      "include_colab_link": true
    },
    "kernelspec": {
      "name": "python3",
      "display_name": "Python 3"
    },
    "language_info": {
      "name": "python"
    }
  },
  "cells": [
    {
      "cell_type": "markdown",
      "metadata": {
        "id": "view-in-github",
        "colab_type": "text"
      },
      "source": [
        "<a href=\"https://colab.research.google.com/github/someonewholikelife/git/blob/main/ndquantile.ipynb\" target=\"_parent\"><img src=\"https://colab.research.google.com/assets/colab-badge.svg\" alt=\"Open In Colab\"/></a>"
      ]
    },
    {
      "cell_type": "code",
      "source": [
        "!pip install scikit-garden"
      ],
      "metadata": {
        "id": "yRgHouoXi1Yu",
        "colab": {
          "base_uri": "https://localhost:8080/"
        },
        "outputId": "40395795-a3c8-4f30-e2d7-b0457ab8b44f"
      },
      "execution_count": 1,
      "outputs": [
        {
          "output_type": "stream",
          "name": "stdout",
          "text": [
            "Looking in indexes: https://pypi.org/simple, https://us-python.pkg.dev/colab-wheels/public/simple/\n",
            "Collecting scikit-garden\n",
            "  Downloading scikit-garden-0.1.3.tar.gz (317 kB)\n",
            "\u001b[K     |████████████████████████████████| 317 kB 3.9 MB/s \n",
            "\u001b[?25hRequirement already satisfied: numpy in /usr/local/lib/python3.8/dist-packages (from scikit-garden) (1.21.6)\n",
            "Requirement already satisfied: scipy in /usr/local/lib/python3.8/dist-packages (from scikit-garden) (1.7.3)\n",
            "Requirement already satisfied: scikit-learn>=0.18 in /usr/local/lib/python3.8/dist-packages (from scikit-garden) (1.0.2)\n",
            "Requirement already satisfied: cython in /usr/local/lib/python3.8/dist-packages (from scikit-garden) (0.29.32)\n",
            "Requirement already satisfied: threadpoolctl>=2.0.0 in /usr/local/lib/python3.8/dist-packages (from scikit-learn>=0.18->scikit-garden) (3.1.0)\n",
            "Requirement already satisfied: joblib>=0.11 in /usr/local/lib/python3.8/dist-packages (from scikit-learn>=0.18->scikit-garden) (1.2.0)\n",
            "Building wheels for collected packages: scikit-garden\n",
            "  Building wheel for scikit-garden (setup.py) ... \u001b[?25l\u001b[?25hdone\n",
            "  Created wheel for scikit-garden: filename=scikit_garden-0.1.3-cp38-cp38-linux_x86_64.whl size=762404 sha256=bb21f7cc6f93a986b6dd1e9fe74cf254cff5485b528b5fcbde78b35bb74dc99d\n",
            "  Stored in directory: /root/.cache/pip/wheels/54/ff/a6/00baae3f7f8d52f8281af8a3d4c21adf0495f1606eb16a443d\n",
            "Successfully built scikit-garden\n",
            "Installing collected packages: scikit-garden\n",
            "Successfully installed scikit-garden-0.1.3\n"
          ]
        }
      ]
    },
    {
      "cell_type": "code",
      "source": [
        "!pip install -U scikit-learn==0.21.3"
      ],
      "metadata": {
        "id": "iAD9fIDNi1WL",
        "colab": {
          "base_uri": "https://localhost:8080/"
        },
        "outputId": "63599169-46f7-4af5-9dd4-36e14ecbf405"
      },
      "execution_count": 2,
      "outputs": [
        {
          "output_type": "stream",
          "name": "stdout",
          "text": [
            "Looking in indexes: https://pypi.org/simple, https://us-python.pkg.dev/colab-wheels/public/simple/\n",
            "Collecting scikit-learn==0.21.3\n",
            "  Downloading scikit-learn-0.21.3.tar.gz (12.2 MB)\n",
            "\u001b[K     |████████████████████████████████| 12.2 MB 5.3 MB/s \n",
            "\u001b[?25hRequirement already satisfied: numpy>=1.11.0 in /usr/local/lib/python3.8/dist-packages (from scikit-learn==0.21.3) (1.21.6)\n",
            "Requirement already satisfied: scipy>=0.17.0 in /usr/local/lib/python3.8/dist-packages (from scikit-learn==0.21.3) (1.7.3)\n",
            "Requirement already satisfied: joblib>=0.11 in /usr/local/lib/python3.8/dist-packages (from scikit-learn==0.21.3) (1.2.0)\n",
            "Building wheels for collected packages: scikit-learn\n",
            "  Building wheel for scikit-learn (setup.py) ... \u001b[?25l\u001b[?25hdone\n",
            "  Created wheel for scikit-learn: filename=scikit_learn-0.21.3-cp38-cp38-linux_x86_64.whl size=18391046 sha256=80bb87598b877d76ff86160493a89e7fc01fdb0d125ff88c5b42d6415da461b0\n",
            "  Stored in directory: /root/.cache/pip/wheels/50/a7/f7/d987583cd3b9bec683f517206b66b259dfb9b67ee043ce7ac3\n",
            "Successfully built scikit-learn\n",
            "Installing collected packages: scikit-learn\n",
            "  Attempting uninstall: scikit-learn\n",
            "    Found existing installation: scikit-learn 1.0.2\n",
            "    Uninstalling scikit-learn-1.0.2:\n",
            "      Successfully uninstalled scikit-learn-1.0.2\n",
            "\u001b[31mERROR: pip's dependency resolver does not currently take into account all the packages that are installed. This behaviour is the source of the following dependency conflicts.\n",
            "yellowbrick 1.5 requires scikit-learn>=1.0.0, but you have scikit-learn 0.21.3 which is incompatible.\n",
            "imbalanced-learn 0.8.1 requires scikit-learn>=0.24, but you have scikit-learn 0.21.3 which is incompatible.\u001b[0m\n",
            "Successfully installed scikit-learn-0.21.3\n"
          ]
        }
      ]
    },
    {
      "cell_type": "code",
      "source": [
        "import numpy as np\n",
        "import pandas as pd\n",
        "import matplotlib.pyplot as plt\n",
        "import seaborn as sns\n",
        "\n",
        "from sklearn.datasets import load_boston\n",
        "from sklearn.model_selection import train_test_split\n",
        "from sklearn.model_selection import KFold\n",
        "from skgarden import RandomForestQuantileRegressor"
      ],
      "metadata": {
        "id": "sOvqstNdi1To",
        "colab": {
          "base_uri": "https://localhost:8080/"
        },
        "outputId": "822f9a53-f8c6-41bb-bb96-8ccc568992d1"
      },
      "execution_count": 3,
      "outputs": [
        {
          "output_type": "stream",
          "name": "stderr",
          "text": [
            "/usr/local/lib/python3.8/dist-packages/sklearn/feature_extraction/image.py:167: DeprecationWarning: `np.int` is a deprecated alias for the builtin `int`. To silence this warning, use `int` by itself. Doing this will not modify any behavior and is safe. When replacing `np.int`, you may wish to use e.g. `np.int64` or `np.int32` to specify the precision. If you wish to review your current use, check the release note link for additional information.\n",
            "Deprecated in NumPy 1.20; for more details and guidance: https://numpy.org/devdocs/release/1.20.0-notes.html#deprecations\n",
            "  dtype=np.int):\n",
            "/usr/local/lib/python3.8/dist-packages/sklearn/linear_model/least_angle.py:30: DeprecationWarning: `np.float` is a deprecated alias for the builtin `float`. To silence this warning, use `float` by itself. Doing this will not modify any behavior and is safe. If you specifically wanted the numpy scalar type, use `np.float64` here.\n",
            "Deprecated in NumPy 1.20; for more details and guidance: https://numpy.org/devdocs/release/1.20.0-notes.html#deprecations\n",
            "  method='lar', copy_X=True, eps=np.finfo(np.float).eps,\n",
            "/usr/local/lib/python3.8/dist-packages/sklearn/linear_model/least_angle.py:167: DeprecationWarning: `np.float` is a deprecated alias for the builtin `float`. To silence this warning, use `float` by itself. Doing this will not modify any behavior and is safe. If you specifically wanted the numpy scalar type, use `np.float64` here.\n",
            "Deprecated in NumPy 1.20; for more details and guidance: https://numpy.org/devdocs/release/1.20.0-notes.html#deprecations\n",
            "  method='lar', copy_X=True, eps=np.finfo(np.float).eps,\n",
            "/usr/local/lib/python3.8/dist-packages/sklearn/linear_model/least_angle.py:284: DeprecationWarning: `np.float` is a deprecated alias for the builtin `float`. To silence this warning, use `float` by itself. Doing this will not modify any behavior and is safe. If you specifically wanted the numpy scalar type, use `np.float64` here.\n",
            "Deprecated in NumPy 1.20; for more details and guidance: https://numpy.org/devdocs/release/1.20.0-notes.html#deprecations\n",
            "  eps=np.finfo(np.float).eps, copy_Gram=True, verbose=0,\n",
            "/usr/local/lib/python3.8/dist-packages/sklearn/linear_model/least_angle.py:862: DeprecationWarning: `np.float` is a deprecated alias for the builtin `float`. To silence this warning, use `float` by itself. Doing this will not modify any behavior and is safe. If you specifically wanted the numpy scalar type, use `np.float64` here.\n",
            "Deprecated in NumPy 1.20; for more details and guidance: https://numpy.org/devdocs/release/1.20.0-notes.html#deprecations\n",
            "  eps=np.finfo(np.float).eps, copy_X=True, fit_path=True,\n",
            "/usr/local/lib/python3.8/dist-packages/sklearn/linear_model/least_angle.py:1101: DeprecationWarning: `np.float` is a deprecated alias for the builtin `float`. To silence this warning, use `float` by itself. Doing this will not modify any behavior and is safe. If you specifically wanted the numpy scalar type, use `np.float64` here.\n",
            "Deprecated in NumPy 1.20; for more details and guidance: https://numpy.org/devdocs/release/1.20.0-notes.html#deprecations\n",
            "  eps=np.finfo(np.float).eps, copy_X=True, fit_path=True,\n",
            "/usr/local/lib/python3.8/dist-packages/sklearn/linear_model/least_angle.py:1127: DeprecationWarning: `np.float` is a deprecated alias for the builtin `float`. To silence this warning, use `float` by itself. Doing this will not modify any behavior and is safe. If you specifically wanted the numpy scalar type, use `np.float64` here.\n",
            "Deprecated in NumPy 1.20; for more details and guidance: https://numpy.org/devdocs/release/1.20.0-notes.html#deprecations\n",
            "  eps=np.finfo(np.float).eps, positive=False):\n",
            "/usr/local/lib/python3.8/dist-packages/sklearn/linear_model/least_angle.py:1362: DeprecationWarning: `np.float` is a deprecated alias for the builtin `float`. To silence this warning, use `float` by itself. Doing this will not modify any behavior and is safe. If you specifically wanted the numpy scalar type, use `np.float64` here.\n",
            "Deprecated in NumPy 1.20; for more details and guidance: https://numpy.org/devdocs/release/1.20.0-notes.html#deprecations\n",
            "  max_n_alphas=1000, n_jobs=None, eps=np.finfo(np.float).eps,\n",
            "/usr/local/lib/python3.8/dist-packages/sklearn/linear_model/least_angle.py:1602: DeprecationWarning: `np.float` is a deprecated alias for the builtin `float`. To silence this warning, use `float` by itself. Doing this will not modify any behavior and is safe. If you specifically wanted the numpy scalar type, use `np.float64` here.\n",
            "Deprecated in NumPy 1.20; for more details and guidance: https://numpy.org/devdocs/release/1.20.0-notes.html#deprecations\n",
            "  max_n_alphas=1000, n_jobs=None, eps=np.finfo(np.float).eps,\n",
            "/usr/local/lib/python3.8/dist-packages/sklearn/linear_model/least_angle.py:1738: DeprecationWarning: `np.float` is a deprecated alias for the builtin `float`. To silence this warning, use `float` by itself. Doing this will not modify any behavior and is safe. If you specifically wanted the numpy scalar type, use `np.float64` here.\n",
            "Deprecated in NumPy 1.20; for more details and guidance: https://numpy.org/devdocs/release/1.20.0-notes.html#deprecations\n",
            "  eps=np.finfo(np.float).eps, copy_X=True, positive=False):\n",
            "/usr/local/lib/python3.8/dist-packages/sklearn/decomposition/online_lda.py:29: DeprecationWarning: `np.float` is a deprecated alias for the builtin `float`. To silence this warning, use `float` by itself. Doing this will not modify any behavior and is safe. If you specifically wanted the numpy scalar type, use `np.float64` here.\n",
            "Deprecated in NumPy 1.20; for more details and guidance: https://numpy.org/devdocs/release/1.20.0-notes.html#deprecations\n",
            "  EPS = np.finfo(np.float).eps\n",
            "/usr/local/lib/python3.8/dist-packages/sklearn/ensemble/gradient_boosting.py:32: DeprecationWarning: `np.bool` is a deprecated alias for the builtin `bool`. To silence this warning, use `bool` by itself. Doing this will not modify any behavior and is safe. If you specifically wanted the numpy scalar type, use `np.bool_` here.\n",
            "Deprecated in NumPy 1.20; for more details and guidance: https://numpy.org/devdocs/release/1.20.0-notes.html#deprecations\n",
            "  from ._gradient_boosting import predict_stages\n",
            "/usr/local/lib/python3.8/dist-packages/sklearn/ensemble/gradient_boosting.py:32: DeprecationWarning: `np.bool` is a deprecated alias for the builtin `bool`. To silence this warning, use `bool` by itself. Doing this will not modify any behavior and is safe. If you specifically wanted the numpy scalar type, use `np.bool_` here.\n",
            "Deprecated in NumPy 1.20; for more details and guidance: https://numpy.org/devdocs/release/1.20.0-notes.html#deprecations\n",
            "  from ._gradient_boosting import predict_stages\n",
            "/usr/local/lib/python3.8/dist-packages/sklearn/externals/six.py:28: DeprecationWarning: The module is deprecated in version 0.21 and will be removed in version 0.23 since we've dropped support for Python 2.7. Please rely on the official version of six (https://pypi.org/project/six/).\n",
            "  warnings.warn(\"The module is deprecated in version 0.21 and will be removed \"\n"
          ]
        }
      ]
    },
    {
      "cell_type": "code",
      "source": [
        "machta_new_full = pd.read_csv('machta_new_full.csv', index_col=0)\n",
        "machta_new_full.head()"
      ],
      "metadata": {
        "colab": {
          "base_uri": "https://localhost:8080/",
          "height": 369
        },
        "id": "cldtnPUWo6qo",
        "outputId": "89789ae2-994f-46d1-e3cb-c61e3d0e38b1"
      },
      "execution_count": 4,
      "outputs": [
        {
          "output_type": "execute_result",
          "data": {
            "text/plain": [
              "            Изготовление и монтаж лестниц_act_fact  \\\n",
              "31.12.1999                                     0.0   \n",
              "01.12.2014                                     0.0   \n",
              "01.01.2015                                     0.0   \n",
              "01.02.2015                                     0.0   \n",
              "01.03.2015                                     0.0   \n",
              "\n",
              "            Изготовление и монтаж балок Б1_act_fact  \\\n",
              "31.12.1999                                      0.0   \n",
              "01.12.2014                                      0.0   \n",
              "01.01.2015                                      0.0   \n",
              "01.02.2015                                      0.0   \n",
              "01.03.2015                                      0.0   \n",
              "\n",
              "            Устройство свайного основания_act_fact  \\\n",
              "31.12.1999                                     0.0   \n",
              "01.12.2014                                     0.0   \n",
              "01.01.2015                                     0.0   \n",
              "01.02.2015                                     0.0   \n",
              "01.03.2015                                     0.0   \n",
              "\n",
              "            Устройство термометрической скважины ТС1_act_fact  \\\n",
              "31.12.1999                                                0.0   \n",
              "01.12.2014                                                0.0   \n",
              "01.01.2015                                                0.0   \n",
              "01.02.2015                                                0.0   \n",
              "01.03.2015                                                0.0   \n",
              "\n",
              "            Монтаж блока ствола Фо5а_act_fact  \\\n",
              "31.12.1999                                0.0   \n",
              "01.12.2014                                0.0   \n",
              "01.01.2015                                0.0   \n",
              "01.02.2015                                0.0   \n",
              "01.03.2015                                0.0   \n",
              "\n",
              "            Монтаж блока ствола Ф-3а_act_fact  \\\n",
              "31.12.1999                                0.0   \n",
              "01.12.2014                                0.0   \n",
              "01.01.2015                                0.0   \n",
              "01.02.2015                                0.0   \n",
              "01.03.2015                                0.0   \n",
              "\n",
              "            Изготовление и монтаж опорной балки ОБ1_act_fact  \\\n",
              "31.12.1999                                               0.0   \n",
              "01.12.2014                                               0.0   \n",
              "01.01.2015                                               0.0   \n",
              "01.02.2015                                               0.0   \n",
              "01.03.2015                                               0.0   \n",
              "\n",
              "            Монтаж блока ствола Ф-1а_act_fact  Монтаж связей СГ1_act_fact  \\\n",
              "31.12.1999                                0.0                         0.0   \n",
              "01.12.2014                                0.0                         0.0   \n",
              "01.01.2015                                0.0                         0.0   \n",
              "01.02.2015                                0.0                         0.0   \n",
              "01.03.2015                                0.0                         0.0   \n",
              "\n",
              "            Монтаж связей СГ2_act_fact  ...  Сварщик_res_fact  \\\n",
              "31.12.1999                         0.0  ...               0.0   \n",
              "01.12.2014                         0.0  ...               0.0   \n",
              "01.01.2015                         0.0  ...               0.0   \n",
              "01.02.2015                         0.0  ...               0.0   \n",
              "01.03.2015                         0.0  ...               0.0   \n",
              "\n",
              "            Сварщики м/к_res_fact  Сварщики-технологи_res_fact  \\\n",
              "31.12.1999                    0.0                          0.0   \n",
              "01.12.2014                    0.0                          0.0   \n",
              "01.01.2015                    0.0                          0.0   \n",
              "01.02.2015                    0.0                          0.0   \n",
              "01.03.2015                    0.0                          0.0   \n",
              "\n",
              "            Автокран (в.т.ч. г/п 100 т)_res_fact  Сварщик м/к_res_fact  \\\n",
              "31.12.1999                                     0                   0.0   \n",
              "01.12.2014                                     0                   0.0   \n",
              "01.01.2015                                     0                   0.0   \n",
              "01.02.2015                                     0                   0.0   \n",
              "01.03.2015                                     0                   0.0   \n",
              "\n",
              "            Сварщик технолог_res_fact  \\\n",
              "31.12.1999                        0.0   \n",
              "01.12.2014                        0.0   \n",
              "01.01.2015                        0.0   \n",
              "01.02.2015                        0.0   \n",
              "01.03.2015                        0.0   \n",
              "\n",
              "            Электролинейщики (вкл. бригадиров)_res_fact  \\\n",
              "31.12.1999                                          0.0   \n",
              "01.12.2014                                          0.0   \n",
              "01.01.2015                                          0.0   \n",
              "01.02.2015                                          0.0   \n",
              "01.03.2015                                          0.0   \n",
              "\n",
              "            Гусеничный тягач МТЛБу_res_fact  АДД_res_fact  \\\n",
              "31.12.1999                              0.0             0   \n",
              "01.12.2014                              0.0             0   \n",
              "01.01.2015                              0.0             0   \n",
              "01.02.2015                              0.0             0   \n",
              "01.03.2015                              0.0             0   \n",
              "\n",
              "            ДЭС 360 КВт_res_fact  \n",
              "31.12.1999                     0  \n",
              "01.12.2014                     0  \n",
              "01.01.2015                     0  \n",
              "01.02.2015                     0  \n",
              "01.03.2015                     0  \n",
              "\n",
              "[5 rows x 224 columns]"
            ],
            "text/html": [
              "\n",
              "  <div id=\"df-47367a0f-80ba-45e5-afe3-699190568646\">\n",
              "    <div class=\"colab-df-container\">\n",
              "      <div>\n",
              "<style scoped>\n",
              "    .dataframe tbody tr th:only-of-type {\n",
              "        vertical-align: middle;\n",
              "    }\n",
              "\n",
              "    .dataframe tbody tr th {\n",
              "        vertical-align: top;\n",
              "    }\n",
              "\n",
              "    .dataframe thead th {\n",
              "        text-align: right;\n",
              "    }\n",
              "</style>\n",
              "<table border=\"1\" class=\"dataframe\">\n",
              "  <thead>\n",
              "    <tr style=\"text-align: right;\">\n",
              "      <th></th>\n",
              "      <th>Изготовление и монтаж лестниц_act_fact</th>\n",
              "      <th>Изготовление и монтаж балок Б1_act_fact</th>\n",
              "      <th>Устройство свайного основания_act_fact</th>\n",
              "      <th>Устройство термометрической скважины ТС1_act_fact</th>\n",
              "      <th>Монтаж блока ствола Фо5а_act_fact</th>\n",
              "      <th>Монтаж блока ствола Ф-3а_act_fact</th>\n",
              "      <th>Изготовление и монтаж опорной балки ОБ1_act_fact</th>\n",
              "      <th>Монтаж блока ствола Ф-1а_act_fact</th>\n",
              "      <th>Монтаж связей СГ1_act_fact</th>\n",
              "      <th>Монтаж связей СГ2_act_fact</th>\n",
              "      <th>...</th>\n",
              "      <th>Сварщик_res_fact</th>\n",
              "      <th>Сварщики м/к_res_fact</th>\n",
              "      <th>Сварщики-технологи_res_fact</th>\n",
              "      <th>Автокран (в.т.ч. г/п 100 т)_res_fact</th>\n",
              "      <th>Сварщик м/к_res_fact</th>\n",
              "      <th>Сварщик технолог_res_fact</th>\n",
              "      <th>Электролинейщики (вкл. бригадиров)_res_fact</th>\n",
              "      <th>Гусеничный тягач МТЛБу_res_fact</th>\n",
              "      <th>АДД_res_fact</th>\n",
              "      <th>ДЭС 360 КВт_res_fact</th>\n",
              "    </tr>\n",
              "  </thead>\n",
              "  <tbody>\n",
              "    <tr>\n",
              "      <th>31.12.1999</th>\n",
              "      <td>0.0</td>\n",
              "      <td>0.0</td>\n",
              "      <td>0.0</td>\n",
              "      <td>0.0</td>\n",
              "      <td>0.0</td>\n",
              "      <td>0.0</td>\n",
              "      <td>0.0</td>\n",
              "      <td>0.0</td>\n",
              "      <td>0.0</td>\n",
              "      <td>0.0</td>\n",
              "      <td>...</td>\n",
              "      <td>0.0</td>\n",
              "      <td>0.0</td>\n",
              "      <td>0.0</td>\n",
              "      <td>0</td>\n",
              "      <td>0.0</td>\n",
              "      <td>0.0</td>\n",
              "      <td>0.0</td>\n",
              "      <td>0.0</td>\n",
              "      <td>0</td>\n",
              "      <td>0</td>\n",
              "    </tr>\n",
              "    <tr>\n",
              "      <th>01.12.2014</th>\n",
              "      <td>0.0</td>\n",
              "      <td>0.0</td>\n",
              "      <td>0.0</td>\n",
              "      <td>0.0</td>\n",
              "      <td>0.0</td>\n",
              "      <td>0.0</td>\n",
              "      <td>0.0</td>\n",
              "      <td>0.0</td>\n",
              "      <td>0.0</td>\n",
              "      <td>0.0</td>\n",
              "      <td>...</td>\n",
              "      <td>0.0</td>\n",
              "      <td>0.0</td>\n",
              "      <td>0.0</td>\n",
              "      <td>0</td>\n",
              "      <td>0.0</td>\n",
              "      <td>0.0</td>\n",
              "      <td>0.0</td>\n",
              "      <td>0.0</td>\n",
              "      <td>0</td>\n",
              "      <td>0</td>\n",
              "    </tr>\n",
              "    <tr>\n",
              "      <th>01.01.2015</th>\n",
              "      <td>0.0</td>\n",
              "      <td>0.0</td>\n",
              "      <td>0.0</td>\n",
              "      <td>0.0</td>\n",
              "      <td>0.0</td>\n",
              "      <td>0.0</td>\n",
              "      <td>0.0</td>\n",
              "      <td>0.0</td>\n",
              "      <td>0.0</td>\n",
              "      <td>0.0</td>\n",
              "      <td>...</td>\n",
              "      <td>0.0</td>\n",
              "      <td>0.0</td>\n",
              "      <td>0.0</td>\n",
              "      <td>0</td>\n",
              "      <td>0.0</td>\n",
              "      <td>0.0</td>\n",
              "      <td>0.0</td>\n",
              "      <td>0.0</td>\n",
              "      <td>0</td>\n",
              "      <td>0</td>\n",
              "    </tr>\n",
              "    <tr>\n",
              "      <th>01.02.2015</th>\n",
              "      <td>0.0</td>\n",
              "      <td>0.0</td>\n",
              "      <td>0.0</td>\n",
              "      <td>0.0</td>\n",
              "      <td>0.0</td>\n",
              "      <td>0.0</td>\n",
              "      <td>0.0</td>\n",
              "      <td>0.0</td>\n",
              "      <td>0.0</td>\n",
              "      <td>0.0</td>\n",
              "      <td>...</td>\n",
              "      <td>0.0</td>\n",
              "      <td>0.0</td>\n",
              "      <td>0.0</td>\n",
              "      <td>0</td>\n",
              "      <td>0.0</td>\n",
              "      <td>0.0</td>\n",
              "      <td>0.0</td>\n",
              "      <td>0.0</td>\n",
              "      <td>0</td>\n",
              "      <td>0</td>\n",
              "    </tr>\n",
              "    <tr>\n",
              "      <th>01.03.2015</th>\n",
              "      <td>0.0</td>\n",
              "      <td>0.0</td>\n",
              "      <td>0.0</td>\n",
              "      <td>0.0</td>\n",
              "      <td>0.0</td>\n",
              "      <td>0.0</td>\n",
              "      <td>0.0</td>\n",
              "      <td>0.0</td>\n",
              "      <td>0.0</td>\n",
              "      <td>0.0</td>\n",
              "      <td>...</td>\n",
              "      <td>0.0</td>\n",
              "      <td>0.0</td>\n",
              "      <td>0.0</td>\n",
              "      <td>0</td>\n",
              "      <td>0.0</td>\n",
              "      <td>0.0</td>\n",
              "      <td>0.0</td>\n",
              "      <td>0.0</td>\n",
              "      <td>0</td>\n",
              "      <td>0</td>\n",
              "    </tr>\n",
              "  </tbody>\n",
              "</table>\n",
              "<p>5 rows × 224 columns</p>\n",
              "</div>\n",
              "      <button class=\"colab-df-convert\" onclick=\"convertToInteractive('df-47367a0f-80ba-45e5-afe3-699190568646')\"\n",
              "              title=\"Convert this dataframe to an interactive table.\"\n",
              "              style=\"display:none;\">\n",
              "        \n",
              "  <svg xmlns=\"http://www.w3.org/2000/svg\" height=\"24px\"viewBox=\"0 0 24 24\"\n",
              "       width=\"24px\">\n",
              "    <path d=\"M0 0h24v24H0V0z\" fill=\"none\"/>\n",
              "    <path d=\"M18.56 5.44l.94 2.06.94-2.06 2.06-.94-2.06-.94-.94-2.06-.94 2.06-2.06.94zm-11 1L8.5 8.5l.94-2.06 2.06-.94-2.06-.94L8.5 2.5l-.94 2.06-2.06.94zm10 10l.94 2.06.94-2.06 2.06-.94-2.06-.94-.94-2.06-.94 2.06-2.06.94z\"/><path d=\"M17.41 7.96l-1.37-1.37c-.4-.4-.92-.59-1.43-.59-.52 0-1.04.2-1.43.59L10.3 9.45l-7.72 7.72c-.78.78-.78 2.05 0 2.83L4 21.41c.39.39.9.59 1.41.59.51 0 1.02-.2 1.41-.59l7.78-7.78 2.81-2.81c.8-.78.8-2.07 0-2.86zM5.41 20L4 18.59l7.72-7.72 1.47 1.35L5.41 20z\"/>\n",
              "  </svg>\n",
              "      </button>\n",
              "      \n",
              "  <style>\n",
              "    .colab-df-container {\n",
              "      display:flex;\n",
              "      flex-wrap:wrap;\n",
              "      gap: 12px;\n",
              "    }\n",
              "\n",
              "    .colab-df-convert {\n",
              "      background-color: #E8F0FE;\n",
              "      border: none;\n",
              "      border-radius: 50%;\n",
              "      cursor: pointer;\n",
              "      display: none;\n",
              "      fill: #1967D2;\n",
              "      height: 32px;\n",
              "      padding: 0 0 0 0;\n",
              "      width: 32px;\n",
              "    }\n",
              "\n",
              "    .colab-df-convert:hover {\n",
              "      background-color: #E2EBFA;\n",
              "      box-shadow: 0px 1px 2px rgba(60, 64, 67, 0.3), 0px 1px 3px 1px rgba(60, 64, 67, 0.15);\n",
              "      fill: #174EA6;\n",
              "    }\n",
              "\n",
              "    [theme=dark] .colab-df-convert {\n",
              "      background-color: #3B4455;\n",
              "      fill: #D2E3FC;\n",
              "    }\n",
              "\n",
              "    [theme=dark] .colab-df-convert:hover {\n",
              "      background-color: #434B5C;\n",
              "      box-shadow: 0px 1px 3px 1px rgba(0, 0, 0, 0.15);\n",
              "      filter: drop-shadow(0px 1px 2px rgba(0, 0, 0, 0.3));\n",
              "      fill: #FFFFFF;\n",
              "    }\n",
              "  </style>\n",
              "\n",
              "      <script>\n",
              "        const buttonEl =\n",
              "          document.querySelector('#df-47367a0f-80ba-45e5-afe3-699190568646 button.colab-df-convert');\n",
              "        buttonEl.style.display =\n",
              "          google.colab.kernel.accessAllowed ? 'block' : 'none';\n",
              "\n",
              "        async function convertToInteractive(key) {\n",
              "          const element = document.querySelector('#df-47367a0f-80ba-45e5-afe3-699190568646');\n",
              "          const dataTable =\n",
              "            await google.colab.kernel.invokeFunction('convertToInteractive',\n",
              "                                                     [key], {});\n",
              "          if (!dataTable) return;\n",
              "\n",
              "          const docLinkHtml = 'Like what you see? Visit the ' +\n",
              "            '<a target=\"_blank\" href=https://colab.research.google.com/notebooks/data_table.ipynb>data table notebook</a>'\n",
              "            + ' to learn more about interactive tables.';\n",
              "          element.innerHTML = '';\n",
              "          dataTable['output_type'] = 'display_data';\n",
              "          await google.colab.output.renderOutput(dataTable, element);\n",
              "          const docLink = document.createElement('div');\n",
              "          docLink.innerHTML = docLinkHtml;\n",
              "          element.appendChild(docLink);\n",
              "        }\n",
              "      </script>\n",
              "    </div>\n",
              "  </div>\n",
              "  "
            ]
          },
          "metadata": {},
          "execution_count": 4
        }
      ]
    },
    {
      "cell_type": "code",
      "source": [
        "def rfqr(df, target_col, q):\n",
        "  X = df.drop(target_col, axis=1)\n",
        "  y = df[target_col]\n",
        "\n",
        "  rfqr = RandomForestQuantileRegressor(random_state=43, min_samples_split=10, n_estimators=1000)\n",
        "  rfqr.fit(X, y)\n",
        "  pred = rfqr.predict(X, quantile=q)\n",
        "  return pred"
      ],
      "metadata": {
        "id": "FfHZ7_3Bi1O7"
      },
      "execution_count": 5,
      "outputs": []
    },
    {
      "cell_type": "code",
      "source": [
        "def Nd_quantile(data, target_col):\n",
        "  df = data[data[target_col] != 0]\n",
        "\n",
        "  if df.shape[0] < 30:\n",
        "    return 'Too small dataset!!!'\n",
        "\n",
        "  pred_75 = rfqr(df, target_col, q=75)\n",
        "  pred_25 = rfqr(df, target_col, q=25)\n",
        "\n",
        "  new_df = df[(df[target_col]>=pred_25) & (df[target_col]<=pred_75)]\n",
        "\n",
        "  return new_df"
      ],
      "metadata": {
        "id": "ec2Voezzi1Mm"
      },
      "execution_count": 6,
      "outputs": []
    },
    {
      "cell_type": "code",
      "source": [
        "def box(df, target_col):\n",
        "  plt.figure(figsize=(10,6))\n",
        "  sns.boxplot(df[target_col], orient='v')\n",
        "  plt.rcParams.update({'font.size': 16})"
      ],
      "metadata": {
        "id": "m_921eP5i1KO"
      },
      "execution_count": 7,
      "outputs": []
    },
    {
      "cell_type": "code",
      "source": [
        "def target_columns(data, suffix='act_fact'):\n",
        "  act_fact = []\n",
        "  for i in data.columns:\n",
        "    if i.find(suffix) > 0:\n",
        "      act_fact.append(i)\n",
        "  return act_fact"
      ],
      "metadata": {
        "id": "PXEWJRw7i1C8"
      },
      "execution_count": 8,
      "outputs": []
    },
    {
      "cell_type": "code",
      "source": [
        "act_fact = target_columns(machta_new_full)\n",
        "\n",
        "aaa = {}\n",
        "for i in act_fact:\n",
        "  aaa[i] = Nd_quantile(machta_new_full, i)\n",
        "\n"
      ],
      "metadata": {
        "id": "kDWValS9i07l"
      },
      "execution_count": 9,
      "outputs": []
    },
    {
      "cell_type": "code",
      "source": [
        "target_col = act_fact[2]\n",
        "df = machta_new_full[machta_new_full[target_col] != 0]\n",
        "new_df = Nd_quantile(machta_new_full, target_col)\n",
        "\n",
        "max_res = 0\n",
        "for i in new_df.columns:\n",
        "  if i != target_col and max_res<new_df[i].nunique():\n",
        "    max_res = new_df[i].nunique()\n",
        "    res_col = i\n",
        "\n",
        "plt.figure(figsize=(10,6))\n",
        "plt.plot(df[res_col], rfqr(df, target_col, 75), '_', color='orange')\n",
        "plt.plot(new_df[res_col], new_df[target_col], '+', color='green')\n",
        "plt.plot(df[res_col], rfqr(df, target_col, 25), '_', color='blue')"
      ],
      "metadata": {
        "id": "mW6xLquMi04y",
        "colab": {
          "base_uri": "https://localhost:8080/",
          "height": 391
        },
        "outputId": "ffa73c39-cb11-4d26-890b-ba2db637df33"
      },
      "execution_count": 10,
      "outputs": [
        {
          "output_type": "execute_result",
          "data": {
            "text/plain": [
              "[<matplotlib.lines.Line2D at 0x7f8279987400>]"
            ]
          },
          "metadata": {},
          "execution_count": 10
        },
        {
          "output_type": "display_data",
          "data": {
            "text/plain": [
              "<Figure size 720x432 with 1 Axes>"
            ],
            "image/png": "[encoded data removed]"
          },
          "metadata": {
            "needs_background": "light"
          }
        }
      ]
    },
    {
      "cell_type": "code",
      "source": [
        "box(new_df, target_col)"
      ],
      "metadata": {
        "colab": {
          "base_uri": "https://localhost:8080/",
          "height": 478
        },
        "id": "99diqMte0zMo",
        "outputId": "1409b469-640d-4a76-ce86-eb564317b3b2"
      },
      "execution_count": 11,
      "outputs": [
        {
          "output_type": "stream",
          "name": "stderr",
          "text": [
            "/usr/local/lib/python3.8/dist-packages/seaborn/_decorators.py:36: FutureWarning: Pass the following variable as a keyword arg: x. From version 0.12, the only valid positional argument will be `data`, and passing other arguments without an explicit keyword will result in an error or misinterpretation.\n",
            "  warnings.warn(\n",
            "/usr/local/lib/python3.8/dist-packages/seaborn/_core.py:1326: UserWarning: Vertical orientation ignored with only `x` specified.\n",
            "  warnings.warn(single_var_warning.format(\"Vertical\", \"x\"))\n"
          ]
        },
        {
          "output_type": "display_data",
          "data": {
            "text/plain": [
              "<Figure size 720x432 with 1 Axes>"
            ],
            "image/png": "[encoded data removed]"
          },
          "metadata": {
            "needs_background": "light"
          }
        }
      ]
    },
    {
      "cell_type": "code",
      "source": [],
      "metadata": {
        "id": "fyBMDO5U0zdB"
      },
      "execution_count": 11,
      "outputs": []
    },
    {
      "cell_type": "code",
      "source": [
        "df = machta_new_full[machta_new_full[target_col] != 0]\n",
        "\n",
        "pred_75 = rfqr(df, target_col, q=75)\n",
        "pred_25 = rfqr(df, target_col, q=25)\n",
        "\n",
        "delta = pred_75 - pred_25\n",
        "low = pred_25 - 1.5*delta\n",
        "high = pred_75 + 1.5*delta\n",
        "\n",
        "new_df_box = df[(df[target_col]>=low) & (df[target_col]<=high)]"
      ],
      "metadata": {
        "id": "exy_v9iN0zUr"
      },
      "execution_count": 12,
      "outputs": []
    },
    {
      "cell_type": "code",
      "source": [
        "box(new_df_box, target_col)"
      ],
      "metadata": {
        "colab": {
          "base_uri": "https://localhost:8080/",
          "height": 488
        },
        "id": "T2BunHRR0zPZ",
        "outputId": "350c9f67-501d-4f01-e24c-e53bdbccbe3b"
      },
      "execution_count": 13,
      "outputs": [
        {
          "output_type": "stream",
          "name": "stderr",
          "text": [
            "/usr/local/lib/python3.8/dist-packages/seaborn/_decorators.py:36: FutureWarning: Pass the following variable as a keyword arg: x. From version 0.12, the only valid positional argument will be `data`, and passing other arguments without an explicit keyword will result in an error or misinterpretation.\n",
            "  warnings.warn(\n",
            "/usr/local/lib/python3.8/dist-packages/seaborn/_core.py:1326: UserWarning: Vertical orientation ignored with only `x` specified.\n",
            "  warnings.warn(single_var_warning.format(\"Vertical\", \"x\"))\n"
          ]
        },
        {
          "output_type": "display_data",
          "data": {
            "text/plain": [
              "<Figure size 720x432 with 1 Axes>"
            ],
            "image/png": "[encoded data removed]"
          },
          "metadata": {
            "needs_background": "light"
          }
        }
      ]
    },
    {
      "cell_type": "code",
      "source": [],
      "metadata": {
        "id": "0W12GgML0zIK"
      },
      "execution_count": 13,
      "outputs": []
    },
    {
      "cell_type": "code",
      "source": [],
      "metadata": {
        "id": "S4hfdUJv0zFY"
      },
      "execution_count": 13,
      "outputs": []
    },
    {
      "cell_type": "code",
      "source": [],
      "metadata": {
        "id": "1ady-T2i0zC0"
      },
      "execution_count": 13,
      "outputs": []
    },
    {
      "cell_type": "code",
      "source": [],
      "metadata": {
        "id": "-L29XoMA0y-l"
      },
      "execution_count": 13,
      "outputs": []
    },
    {
      "cell_type": "code",
      "source": [],
      "metadata": {
        "id": "KsuXTTLU0y8e"
      },
      "execution_count": 13,
      "outputs": []
    },
    {
      "cell_type": "code",
      "source": [],
      "metadata": {
        "id": "5Jl4FDhI0y6X"
      },
      "execution_count": 13,
      "outputs": []
    },
    {
      "cell_type": "code",
      "source": [],
      "metadata": {
        "id": "0BdovQCf0y35"
      },
      "execution_count": 13,
      "outputs": []
    },
    {
      "cell_type": "code",
      "source": [],
      "metadata": {
        "id": "S1Dwgimw0y1r"
      },
      "execution_count": 13,
      "outputs": []
    },
    {
      "cell_type": "code",
      "source": [],
      "metadata": {
        "id": "fLXAf4qE0yzd"
      },
      "execution_count": 13,
      "outputs": []
    },
    {
      "cell_type": "code",
      "source": [],
      "metadata": {
        "id": "hZ2S-HwV0ywz"
      },
      "execution_count": 13,
      "outputs": []
    },
    {
      "cell_type": "code",
      "source": [],
      "metadata": {
        "id": "32Jt3xCJ0yub"
      },
      "execution_count": 13,
      "outputs": []
    },
    {
      "cell_type": "code",
      "execution_count": 13,
      "metadata": {
        "id": "AGxelWtLh5oS"
      },
      "outputs": [],
      "source": [
        "\n"
      ]
    }
  ]
}